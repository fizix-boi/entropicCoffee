{
 "cells": [
  {
   "cell_type": "code",
   "execution_count": 2,
   "metadata": {},
   "outputs": [],
   "source": [
    "import math\n",
    "import os\n",
    "import numpy as np\n",
    "from latticeFunctions import generatePnL, stepDiff, stepDiffHole, plotLattice, pLTitlrIte, calcEnt\n",
    "\n",
    "import matplotlib.pyplot as plt"
   ]
  },
  {
   "cell_type": "code",
   "execution_count": 4,
   "metadata": {},
   "outputs": [],
   "source": [
    "(P, L) = generatePnL(200, 3, 100)\n",
    "\n",
    "t = range(10 ** 3)\n",
    "entr = np.zeros(len(t) + 1)\n",
    "entr[0] = calcEnt(P, L)\n",
    "\n",
    "for numSteps in t:\n",
    "    P = stepDiff(P, L)\n",
    "    entr[numSteps + 1] = calcEnt(P, L)\n",
    "    if((math.log(numSteps + 1, 2) % 1) == 0):\n",
    "        filr = os.getcwd() + \"\\\\baseLattice\\orient\" + str(numSteps + 1) + \".png\"\n",
    "        plotLattice(P, L, \"\", 500, filr)"
   ]
  },
  {
   "cell_type": "code",
   "execution_count": 16,
   "metadata": {},
   "outputs": [
    {
     "data": {
      "image/png": "[encoded data removed]",
      "text/plain": [
       "<Figure size 432x288 with 1 Axes>"
      ]
     },
     "metadata": {
      "needs_background": "light"
     },
     "output_type": "display_data"
    }
   ],
   "source": [
    "fig, ax = plt.subplots()\n",
    "plt.plot(np.linspace(0, len(t), num = len(t) + 1), entr)\n",
    "plt.title('Entropy over Time')\n",
    "plt.xlabel('time')\n",
    "plt.ylabel('S')\n",
    "plt.grid()\n",
    "plt.show()"
   ]
  },
  {
   "cell_type": "code",
   "execution_count": null,
   "metadata": {
    "scrolled": false
   },
   "outputs": [],
   "source": [
    "(P, L) = generatePnL(50, 3, 1000)\n",
    "\n",
    "t = range(10 ** 7)\n",
    "cnt = []\n",
    "cnt.append(len(P))\n",
    "\n",
    "plotLattice(P, L, 10 ** (-32))\n",
    "\n",
    "H = 11\n",
    "\n",
    "for numSteps in t:\n",
    "    P = stepDiffHole(P, L, H)\n",
    "    cnt.append(len(P))\n",
    "    if((math.log10(numSteps + 1) % 1) == 0):\n",
    "        plotLattice(P, L, numSteps + 1)\n",
    "    if(len(P) == 0):\n",
    "        break\n",
    "\n",
    "plotLattice(P, L, numSteps + 1)"
   ]
  },
  {
   "cell_type": "code",
   "execution_count": null,
   "metadata": {},
   "outputs": [],
   "source": []
  }
 ],
 "metadata": {
  "kernelspec": {
   "display_name": "Python 3",
   "language": "python",
   "name": "python3"
  },
  "language_info": {
   "codemirror_mode": {
    "name": "ipython",
    "version": 3
   },
   "file_extension": ".py",
   "mimetype": "text/x-python",
   "name": "python",
   "nbconvert_exporter": "python",
   "pygments_lexer": "ipython3",
   "version": "3.8.3"
  }
 },
 "nbformat": 4,
 "nbformat_minor": 4
}
