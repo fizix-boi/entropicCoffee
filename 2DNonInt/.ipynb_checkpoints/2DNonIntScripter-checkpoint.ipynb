{
 "cells": [
  {
   "cell_type": "code",
   "execution_count": 1,
   "id": "4977cc78",
   "metadata": {},
   "outputs": [],
   "source": [
    "import random\n",
    "import math\n",
    "from math import sqrt, pi\n",
    "import numpy as np\n",
    "\n",
    "import matplotlib\n",
    "import matplotlib.pyplot as plt"
   ]
  },
  {
   "cell_type": "code",
   "execution_count": 152,
   "id": "80bf4e13",
   "metadata": {},
   "outputs": [],
   "source": [
    "class enclosureNGon:\n",
    "    def __init__(self, n):\n",
    "        self.n = n\n",
    "        self.dtheta = 2 * pi / n\n",
    "        \n",
    "        theta = np.linspace(0, 2 * pi * (1.01), num = int(n * 1.01 * (10 ** 4)))\n",
    "        self.stairs = (np.divide(theta, self.dtheta)).astype(int)\n",
    "        thetaPlug = np.multiply(self.stairs, self.dtheta)\n",
    "        \n",
    "        self.sinStairs = np.sin(thetaPlug)\n",
    "        self.cosStairs = np.cos(thetaPlug)\n",
    "        \n",
    "        self.cosUnit = np.multiply(normCentDat(numInt(theta, self.sinStairs)), -1)\n",
    "        self.sinUnit = normCentDat(numInt(theta, self.cosStairs))\n",
    "        self.thetaKey = theta\n",
    "    \n",
    "    def sin(self, angle):\n",
    "        return(self.sinUnit[np.argmin(np.abs(np.subtract(self.thetaKey, (angle + pi/self.n) % (2 * pi))))])\n",
    "    \n",
    "    def cos(self, angle):\n",
    "        return(self.cosUnit[np.argmin(np.abs(np.subtract(self.thetaKey, (angle + pi/self.n) % (2 * pi))))])\n",
    "    \n",
    "def numInt(indep, dep):\n",
    "    step = indep[2] - indep[1]\n",
    "    outp = [0]\n",
    "    \n",
    "    for ite in range(len(dep) - 1):\n",
    "        outp.append(outp[ite] + (step * dep[ite]))\n",
    "    \n",
    "    return(outp)\n",
    "\n",
    "def normCentDat(dat):\n",
    "    datCent = np.subtract(dat, 0.5 * (max(dat) + min(dat)))\n",
    "    return(np.divide(datCent, max(datCent)))"
   ]
  },
  {
   "cell_type": "code",
   "execution_count": 233,
   "id": "77b12012",
   "metadata": {},
   "outputs": [],
   "source": [
    "class enclosure:\n",
    "    def __init__(self, sides, height, scaling):\n",
    "        self.sides = sides\n",
    "        self.zlim = height / 2.0\n",
    "        self.radScale = scaling / 2.0\n",
    "        \n",
    "        if(sides > 0):\n",
    "            poly = enclosureNGon(sides)\n",
    "            self.nGon = poly\n",
    "            \n",
    "            self.sinAna = poly.sinUnit\n",
    "            self.cosAna = poly.cosUnit\n",
    "            self.thetaKey = poly.thetaKey\n",
    "            self.fudge = 1*pi/(self.nGon.n)\n",
    "        else:\n",
    "            theta = np.linspace(0, 2 * pi, num = (10 ** 4))\n",
    "            self.nGon = None\n",
    "            \n",
    "            self.sinAna = np.sin(theta)\n",
    "            self.cosAna = np.cos(theta)\n",
    "            self.thetaKey = theta\n",
    "            \n",
    "    def sin(self, angle):\n",
    "        return(self.sinAna[np.argmin(np.abs(np.subtract(self.thetaKey, (angle + self.fudge) % (2 * pi))))])\n",
    "    \n",
    "    def cos(self, angle):\n",
    "        return(self.cosAna[np.argmin(np.abs(np.subtract(self.thetaKey, (angle + self.fudge) % (2 * pi))))])\n",
    "    \n",
    "    def isIn(self, rad, tht):\n",
    "        xact = rad * self.cos(tht)\n",
    "        yact = rad * self.sin(tht)\n",
    "        ract = rad\n",
    "        \n",
    "        xlim = (self.radScale) * self.cos(tht)\n",
    "        ylim = (self.radScale) * self.sin(tht)\n",
    "        rlim = sqrt((xlim ** 2) + (ylim ** 2))\n",
    "        \n",
    "        plt.plot(2.5 * enc.cosAna, 2.5 * enc.sinAna)\n",
    "        plt.scatter(xact, yact)\n",
    "        plt.scatter(xlim, ylim)\n",
    "        plt.show()\n",
    "        \n",
    "        print(xact/ yact)\n",
    "        print(xlim/ ylim)\n",
    "        print(ract, rlim)"
   ]
  },
  {
   "cell_type": "code",
   "execution_count": 238,
   "id": "729a311a",
   "metadata": {},
   "outputs": [],
   "source": [
    "enc = enclosure(3, 1, 5)"
   ]
  },
  {
   "cell_type": "code",
   "execution_count": 244,
   "id": "52b58e7a",
   "metadata": {},
   "outputs": [
    {
     "data": {
      "image/png": "[encoded data removed]",
      "text/plain": [
       "<Figure size 640x480 with 1 Axes>"
      ]
     },
     "metadata": {},
     "output_type": "display_data"
    },
    {
     "name": "stdout",
     "output_type": "stream",
     "text": [
      "1.999999999999719\n",
      "1.999999999999719\n",
      "2 2.795084971874815\n",
      "None\n"
     ]
    }
   ],
   "source": [
    "print(enc.isIn(2, 2 * pi * (10/120)))"
   ]
  },
  {
   "cell_type": "code",
   "execution_count": null,
   "id": "4f6e0f88",
   "metadata": {},
   "outputs": [],
   "source": []
  }
 ],
 "metadata": {
  "kernelspec": {
   "display_name": "Python 3 (ipykernel)",
   "language": "python",
   "name": "python3"
  },
  "language_info": {
   "codemirror_mode": {
    "name": "ipython",
    "version": 3
   },
   "file_extension": ".py",
   "mimetype": "text/x-python",
   "name": "python",
   "nbconvert_exporter": "python",
   "pygments_lexer": "ipython3",
   "version": "3.9.13"
  }
 },
 "nbformat": 4,
 "nbformat_minor": 5
}
