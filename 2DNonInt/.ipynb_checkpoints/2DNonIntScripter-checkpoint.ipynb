{
 "cells": [
  {
   "cell_type": "code",
   "execution_count": 1,
   "id": "b93d065f",
   "metadata": {},
   "outputs": [],
   "source": [
    "import random\n",
    "import math\n",
    "from math import sqrt, pi\n",
    "import numpy as np\n",
    "\n",
    "import matplotlib\n",
    "import matplotlib.pyplot as plt"
   ]
  },
  {
   "cell_type": "code",
   "execution_count": 2,
   "id": "67dbabf0",
   "metadata": {},
   "outputs": [],
   "source": [
    "class enclosureNGon:\n",
    "    def __init__(self, n):\n",
    "        self.n = n\n",
    "        self.dtheta = 2 * pi / n\n",
    "        \n",
    "        theta = np.linspace(0, 2 * pi * (1.01), num = int(n * 1.01 * (10 ** 3)))\n",
    "        stairs = (np.divide(theta, self.dtheta)).astype(int)\n",
    "        thetaPlug = np.multiply(stairs, self.dtheta)\n",
    "        \n",
    "        self.sinStairs = np.sin(thetaPlug)\n",
    "        self.cosStairs = np.cos(thetaPlug)\n",
    "        \n",
    "        self.cosUnit = np.multiply(normCentDat(numInt(theta, self.sinStairs)), -1)\n",
    "        self.sinUnit = normCentDat(numInt(theta, self.cosStairs))\n",
    "        self.thetaKey = theta\n",
    "    \n",
    "    def sin(self, angle):\n",
    "        return(self.sinUnit[np.argmin(np.abs(np.subtract(self.thetaKey, angle % (2 * pi))))])\n",
    "    \n",
    "    def cos(self, angle):\n",
    "        return(self.cosUnit[np.argmin(np.abs(np.subtract(self.thetaKey, angle % (2 * pi))))])\n",
    "    \n",
    "def numInt(indep, dep):\n",
    "    step = indep[2] - indep[1]\n",
    "    outp = [0]\n",
    "    \n",
    "    for ite in range(len(dep) - 1):\n",
    "        outp.append(outp[ite] + (step * dep[ite]))\n",
    "    \n",
    "    return(outp)\n",
    "\n",
    "def normCentDat(dat):\n",
    "    datCent = np.subtract(dat, 0.5 * (max(dat) + min(dat)))\n",
    "    return(np.divide(datCent, max(datCent)))"
   ]
  },
  {
   "cell_type": "code",
   "execution_count": 3,
   "id": "fdfefe42",
   "metadata": {},
   "outputs": [],
   "source": [
    "class enclosure:\n",
    "    def __init__(self, sides, height, scaling):\n",
    "        self.sides = sides\n",
    "        self.zlim = height / 2.0\n",
    "        \n",
    "        if(sides > 0):\n",
    "            poly = enclosureNGon(sides)\n",
    "            self.nGon = poly\n",
    "            \n",
    "            self.sinAna = np.multiply(0.5 * scaling, poly.sinUnit)\n",
    "            self.cosAna = np.multiply(0.5 * scaling, poly.cosUnit)\n",
    "            self.thetaKey = poly.thetaKey\n",
    "        else:\n",
    "            theta = np.linspace(0, 2 * pi, num = (10 ** 4))\n",
    "            self.nGon = None\n",
    "            \n",
    "            self.sinAna = np.multiply(0.5 * scaling, np.sin(theta))\n",
    "            self.cosAna = np.multiply(0.5 * scaling, np.cos(theta))\n",
    "            self.thetaKey = theta\n",
    "            \n",
    "    def sin(self, angle):\n",
    "        return(self.sinAna[np.argmin(np.abs(np.subtract(self.thetaKey, angle % (2 * pi))))])\n",
    "    \n",
    "    def cos(self, angle):\n",
    "        return(self.cosAna[np.argmin(np.abs(np.subtract(self.thetaKey, angle % (2 * pi))))])"
   ]
  },
  {
   "cell_type": "code",
   "execution_count": 4,
   "id": "36935c34",
   "metadata": {},
   "outputs": [
    {
     "name": "stdout",
     "output_type": "stream",
     "text": [
      "1.5112924859375325\n"
     ]
    },
    {
     "data": {
      "image/png": "[encoded data removed]",
      "text/plain": [
       "<Figure size 640x480 with 1 Axes>"
      ]
     },
     "metadata": {},
     "output_type": "display_data"
    }
   ],
   "source": [
    "enc = enclosure(10, 1, 5)\n",
    "plt.plot(enc.cosAna, enc.sinAna)\n",
    "print(enc.sin(1))"
   ]
  },
  {
   "cell_type": "code",
   "execution_count": null,
   "id": "372dab14",
   "metadata": {},
   "outputs": [],
   "source": []
  }
 ],
 "metadata": {
  "kernelspec": {
   "display_name": "Python 3 (ipykernel)",
   "language": "python",
   "name": "python3"
  },
  "language_info": {
   "codemirror_mode": {
    "name": "ipython",
    "version": 3
   },
   "file_extension": ".py",
   "mimetype": "text/x-python",
   "name": "python",
   "nbconvert_exporter": "python",
   "pygments_lexer": "ipython3",
   "version": "3.9.13"
  }
 },
 "nbformat": 4,
 "nbformat_minor": 5
}
